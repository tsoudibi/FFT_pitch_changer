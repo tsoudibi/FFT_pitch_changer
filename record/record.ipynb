{
 "metadata": {
  "language_info": {
   "codemirror_mode": {
    "name": "ipython",
    "version": 3
   },
   "file_extension": ".py",
   "mimetype": "text/x-python",
   "name": "python",
   "nbconvert_exporter": "python",
   "pygments_lexer": "ipython3",
   "version": "3.8.2"
  },
  "orig_nbformat": 4,
  "kernelspec": {
   "name": "python3",
   "display_name": "Python 3.8.2 64-bit"
  },
  "interpreter": {
   "hash": "74dc133f6ec26b4deaea3d4ebb3d6de952117f7d96a02c3f6dda636e0d91f9f2"
  }
 },
 "nbformat": 4,
 "nbformat_minor": 2,
 "cells": [
  {
   "cell_type": "code",
   "execution_count": 16,
   "metadata": {},
   "outputs": [
    {
     "output_type": "stream",
     "name": "stdout",
     "text": [
      "start recording\n",
      "finish\n"
     ]
    }
   ],
   "source": [
    "import sounddevice as sd\n",
    "from scipy.io.wavfile import write\n",
    "import wavio as wv\n",
    "\n",
    "freq = 44100  # Sample rate\n",
    "seconds = 3  # Duration of recording\n",
    "\n",
    "print(\"start recording\")\n",
    "myrecording = sd.rec(int(seconds * freq), samplerate=freq, channels=2)\n",
    "sd.wait()  # Wait until recording is finished\n",
    "print(\"finish\")\n",
    "write('record.wav', freq, myrecording)  # Save as WAV file (numpy array)\n",
    "wv.write(\"record.wav\", myrecording, freq, sampwidth=2) # Convert the NumPy array to audio file"
   ]
  },
  {
   "cell_type": "code",
   "execution_count": null,
   "metadata": {},
   "outputs": [],
   "source": []
  }
 ]
}